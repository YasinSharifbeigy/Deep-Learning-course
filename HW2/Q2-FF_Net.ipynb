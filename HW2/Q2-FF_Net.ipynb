{
  "cells": [
    {
      "cell_type": "markdown",
      "source": [
        "### Part A\n",
        "Implimentation of Supervised Forward Forward Net."
      ],
      "metadata": {
        "id": "SjxqSDRfMr27"
      }
    },
    {
      "cell_type": "code",
      "execution_count": null,
      "metadata": {
        "id": "6QcrP--19hiQ"
      },
      "outputs": [],
      "source": [
        "import numpy as np\n",
        "import torch\n",
        "from torch.utils.data import Dataset, DataLoader, sampler\n",
        "import torchvision.datasets as datasets\n",
        "import torchvision.transforms as T\n",
        "import torch.nn as nn\n",
        "import torch.optim as optim\n",
        "import torch.nn.functional as F"
      ]
    },
    {
      "cell_type": "code",
      "execution_count": null,
      "metadata": {
        "colab": {
          "base_uri": "https://localhost:8080/"
        },
        "id": "wBUTTE1B9kfl",
        "outputId": "c7e819cf-76b1-4035-d4de-13b7e586c53c"
      },
      "outputs": [
        {
          "name": "stdout",
          "output_type": "stream",
          "text": [
            "device =  cuda\n"
          ]
        }
      ],
      "source": [
        "if torch.cuda.is_available():\n",
        "    device = 'cuda'\n",
        "else:\n",
        "    device = 'cpu'\n",
        "print('device = ', device)\n",
        "dtype = torch.float64"
      ]
    },
    {
      "cell_type": "markdown",
      "source": [
        "Functions to build positive and negative data by embedding labels into flattened data.\n"
      ],
      "metadata": {
        "id": "-o1ZAMEROYDL"
      }
    },
    {
      "cell_type": "code",
      "execution_count": null,
      "metadata": {
        "id": "JLosYTdW90jy"
      },
      "outputs": [],
      "source": [
        "def flatten(x):\n",
        "  N = x.shape[0] # read in N, C, H, W\n",
        "  return x.view(N, -1)  # \"flatten\" the C * H * W values into a single vector per image\n",
        "\n",
        "def put_y_in_x(x, y, num_classes = 10):\n",
        "  x = flatten(x)\n",
        "  N = x.shape[0]\n",
        "  Y = torch.zeros((N, num_classes), dtype = x.dtype, device= x.device)\n",
        "  Y[range(N), y] = 1\n",
        "  return torch.cat((x, Y), dim=1)\n",
        "\n",
        "def build_x_negetive(x, num_classes = 10):\n",
        "  y = torch.randint(num_classes, (x.shape[0],))\n",
        "  return put_y_in_x(x, y, num_classes)"
      ]
    },
    {
      "cell_type": "markdown",
      "source": [
        "A class For building the model.\n",
        "all functions for predicting and training the model are defined here.\n",
        "\n",
        "This code is inspired by https://github.com/mpezeshki/pytorch_forward_forward/blob/main/main.py."
      ],
      "metadata": {
        "id": "wpdkoRjSPJE8"
      }
    },
    {
      "cell_type": "code",
      "execution_count": null,
      "metadata": {
        "id": "4blnUqSu97Uy"
      },
      "outputs": [],
      "source": [
        "class FF(nn.Module):\n",
        "  def __init__(self, input_size: int, hidden_size: list | tuple, num_classes : int, threshold, device = device):\n",
        "    super().__init__()\n",
        "    # assign layer objects to class attributes\n",
        "    self.num_layers = len(hidden_size)\n",
        "    self.num_classes = num_classes\n",
        "    self.device = device\n",
        "    self.threshold = threshold\n",
        "    layer_size = [input_size] + list(hidden_size)\n",
        "    self.layers = []\n",
        "    for i in range(self.num_layers):\n",
        "      self.layers.append(nn.Sequential(nn.Linear(layer_size[i], layer_size[i+1], device= device, dtype= dtype),\n",
        "                                       nn.ReLU()))\n",
        "\n",
        "  def layer_forward(self, x, layer: nn.Sequential):\n",
        "    # forward always defines connectivity\n",
        "    out = x / x.norm(2, dim= 1, keepdim= True)\n",
        "    # print(x.device, list(layer[0].parameters())[0].device)\n",
        "    return layer(out)\n",
        "\n",
        "  def predict(self, x: torch.Tensor):\n",
        "    x = x.to(device= self.device, dtype= dtype)\n",
        "    label_goodness = []\n",
        "    for label in range(self.num_classes):\n",
        "      out = put_y_in_x(x, label, self.num_classes)\n",
        "      goodness = []\n",
        "      for layer in self.layers:\n",
        "        out = self.layer_forward(out, layer)\n",
        "        goodness.append(out.pow(2).mean(dim = 1, keepdim = True))\n",
        "      goodness = torch.cat(goodness, dim= 1)\n",
        "      label_goodness.append(goodness.sum(dim= 1, keepdim= True))\n",
        "    label_goodness = torch.cat(label_goodness, dim= 1)\n",
        "    return label_goodness.argmax(dim= 1)\n",
        "\n",
        "  def train_layer(self, layer, x_positive, x_negetive, opt_iter, optimizer):\n",
        "    optimizer.zero_grad()\n",
        "    for itter in range(opt_iter):\n",
        "      out_positive = self.layer_forward(x_positive, layer)\n",
        "      out_negetive = self.layer_forward(x_negetive, layer)\n",
        "      goodness = out_positive.pow(2).mean(dim= 1)\n",
        "      badness = out_negetive.pow(2).mean(dim= 1)\n",
        "      loss = torch.log(1+ torch.exp(torch.cat((self.threshold - goodness, badness - self.threshold)))).mean()\n",
        "      # print(loss)\n",
        "      loss.backward()\n",
        "      optimizer.step()\n",
        "\n",
        "  def train(self, loader_train, loader_val, epochs, opt_iter, lr = 1e-3, print_every= 100):\n",
        "    self.optim = [optim.Adam(layer.parameters(), lr = lr) for layer in self.layers]\n",
        "    val_acc = []\n",
        "    models = []\n",
        "    for e in range(epochs):\n",
        "      for t, (x, y) in enumerate(loader_train):\n",
        "        x = x.to(device= self.device, dtype= dtype)\n",
        "        # print(x.requires_grad)\n",
        "        y = y.to(device= self.device)\n",
        "        out_positive = put_y_in_x(x, y, self.num_classes)\n",
        "        out_negetive = build_x_negetive(x, self.num_classes)\n",
        "        for i in range(self.num_layers):\n",
        "          self.train_layer(self.layers[i], out_positive, out_negetive, opt_iter, self.optim[i])\n",
        "          out_positive = self.layer_forward(out_positive, self.layers[i]).detach()\n",
        "          out_negetive = self.layer_forward(out_negetive, self.layers[i]).detach()\n",
        "        if t % print_every == 0:\n",
        "          preds = self.predict(x)\n",
        "          num_correct = (preds == y).sum()\n",
        "          num_samples = preds.size(0)\n",
        "          acc = float(num_correct) / num_samples\n",
        "          print('Iteration ', t, ' : ', 'Got %d / %d correct (%.2f)' % (num_correct, num_samples, 100 * acc))\n",
        "      print()\n",
        "      print('epoch ', e, ' :')\n",
        "      val_acc.append(check_accuracy(loader_val, self))\n",
        "      models.append(self.cpu())\n",
        "      print()\n",
        "    return val_acc, models\n"
      ]
    },
    {
      "cell_type": "code",
      "execution_count": null,
      "metadata": {
        "id": "mC-JoD0w9-Ie"
      },
      "outputs": [],
      "source": [
        "def check_accuracy(loader, model):\n",
        "    if loader.dataset.train:\n",
        "        print('Checking accuracy on validation set')\n",
        "    else:\n",
        "        print('Checking accuracy on test set')\n",
        "    num_correct = 0\n",
        "    num_samples = 0\n",
        "    # model.eval()  # set model to evaluation mode\n",
        "    with torch.no_grad():\n",
        "        for x, y in loader:\n",
        "            x = x.to(device=device, dtype = dtype)\n",
        "            preds = model.predict(x)\n",
        "            y = y.to(device=device, dtype = preds.dtype)\n",
        "            # _, preds = scores.max(1)\n",
        "            # print(preds.shape, x.shape , y.shape)\n",
        "            num_correct += (preds == y).sum()\n",
        "            num_samples += preds.size(0)\n",
        "        acc = float(num_correct) / num_samples\n",
        "        print('Got %d / %d correct (%.2f)' % (num_correct, num_samples, 100 * acc))\n",
        "    return acc"
      ]
    },
    {
      "cell_type": "code",
      "execution_count": null,
      "metadata": {
        "id": "ASCzTGoM8kBm"
      },
      "outputs": [],
      "source": [
        "mnist_train = datasets.MNIST('./datasets', train=True, download=True,\n",
        "                             transform= T.ToTensor())\n",
        "mnist_test = datasets.MNIST('./datasets', train=False, download=True,\n",
        "                             transform= T.ToTensor())\n",
        "loader_test = DataLoader(mnist_test, batch_size=512)\n",
        "loader_train = DataLoader(mnist_train, batch_size=512, sampler=sampler.SubsetRandomSampler(range(40000)))\n",
        "loader_val = DataLoader(mnist_train, batch_size=512, sampler=sampler.SubsetRandomSampler(range(40000, 50000)))"
      ]
    },
    {
      "cell_type": "code",
      "execution_count": null,
      "metadata": {
        "colab": {
          "base_uri": "https://localhost:8080/"
        },
        "id": "2OOG55K_-IcA",
        "outputId": "2c9b23db-8d8b-4a60-a189-c77e802405be"
      },
      "outputs": [
        {
          "data": {
            "text/plain": [
              "79"
            ]
          },
          "execution_count": 27,
          "metadata": {},
          "output_type": "execute_result"
        }
      ],
      "source": [
        "len(loader_train)"
      ]
    },
    {
      "cell_type": "code",
      "execution_count": null,
      "metadata": {
        "colab": {
          "base_uri": "https://localhost:8080/"
        },
        "id": "DHl10U1v-BYW",
        "outputId": "75a3442c-718b-43bc-8ebe-56233e3a4611"
      },
      "outputs": [
        {
          "name": "stdout",
          "output_type": "stream",
          "text": [
            "Iteration  0  :  Got 60 / 512 correct (11.72)\n",
            "Iteration  30  :  Got 48 / 512 correct (9.38)\n",
            "Iteration  60  :  Got 56 / 512 correct (10.94)\n",
            "\n",
            "epoch  0  :\n",
            "Checking accuracy on validation set\n",
            "Got 1115 / 10000 correct (11.15)\n",
            "\n",
            "Iteration  0  :  Got 53 / 512 correct (10.35)\n",
            "Iteration  30  :  Got 59 / 512 correct (11.52)\n",
            "Iteration  60  :  Got 64 / 512 correct (12.50)\n",
            "\n",
            "epoch  1  :\n",
            "Checking accuracy on validation set\n",
            "Got 1115 / 10000 correct (11.15)\n",
            "\n",
            "Iteration  0  :  Got 63 / 512 correct (12.30)\n",
            "Iteration  30  :  Got 54 / 512 correct (10.55)\n",
            "Iteration  60  :  Got 142 / 512 correct (27.73)\n",
            "\n",
            "epoch  2  :\n",
            "Checking accuracy on validation set\n",
            "Got 3944 / 10000 correct (39.44)\n",
            "\n",
            "Iteration  0  :  Got 197 / 512 correct (38.48)\n",
            "Iteration  30  :  Got 255 / 512 correct (49.80)\n",
            "Iteration  60  :  Got 291 / 512 correct (56.84)\n",
            "\n",
            "epoch  3  :\n",
            "Checking accuracy on validation set\n",
            "Got 6265 / 10000 correct (62.65)\n",
            "\n",
            "Iteration  0  :  Got 308 / 512 correct (60.16)\n",
            "Iteration  30  :  Got 358 / 512 correct (69.92)\n",
            "Iteration  60  :  Got 371 / 512 correct (72.46)\n",
            "\n",
            "epoch  4  :\n",
            "Checking accuracy on validation set\n",
            "Got 7447 / 10000 correct (74.47)\n",
            "\n",
            "Iteration  0  :  Got 382 / 512 correct (74.61)\n",
            "Iteration  30  :  Got 402 / 512 correct (78.52)\n",
            "Iteration  60  :  Got 427 / 512 correct (83.40)\n",
            "\n",
            "epoch  5  :\n",
            "Checking accuracy on validation set\n",
            "Got 8272 / 10000 correct (82.72)\n",
            "\n",
            "Iteration  0  :  Got 434 / 512 correct (84.77)\n",
            "Iteration  30  :  Got 438 / 512 correct (85.55)\n",
            "Iteration  60  :  Got 429 / 512 correct (83.79)\n",
            "\n",
            "epoch  6  :\n",
            "Checking accuracy on validation set\n",
            "Got 8526 / 10000 correct (85.26)\n",
            "\n",
            "Iteration  0  :  Got 446 / 512 correct (87.11)\n",
            "Iteration  30  :  Got 440 / 512 correct (85.94)\n",
            "Iteration  60  :  Got 444 / 512 correct (86.72)\n",
            "\n",
            "epoch  7  :\n",
            "Checking accuracy on validation set\n",
            "Got 8623 / 10000 correct (86.23)\n",
            "\n",
            "Iteration  0  :  Got 448 / 512 correct (87.50)\n",
            "Iteration  30  :  Got 447 / 512 correct (87.30)\n",
            "Iteration  60  :  Got 447 / 512 correct (87.30)\n",
            "\n",
            "epoch  8  :\n",
            "Checking accuracy on validation set\n",
            "Got 8788 / 10000 correct (87.88)\n",
            "\n",
            "Iteration  0  :  Got 451 / 512 correct (88.09)\n",
            "Iteration  30  :  Got 451 / 512 correct (88.09)\n",
            "Iteration  60  :  Got 456 / 512 correct (89.06)\n",
            "\n",
            "epoch  9  :\n",
            "Checking accuracy on validation set\n",
            "Got 8839 / 10000 correct (88.39)\n",
            "\n",
            "Iteration  0  :  Got 464 / 512 correct (90.62)\n",
            "Iteration  30  :  Got 461 / 512 correct (90.04)\n",
            "Iteration  60  :  Got 462 / 512 correct (90.23)\n",
            "\n",
            "epoch  10  :\n",
            "Checking accuracy on validation set\n",
            "Got 8886 / 10000 correct (88.86)\n",
            "\n",
            "Iteration  0  :  Got 469 / 512 correct (91.60)\n",
            "Iteration  30  :  Got 483 / 512 correct (94.34)\n",
            "Iteration  60  :  Got 463 / 512 correct (90.43)\n",
            "\n",
            "epoch  11  :\n",
            "Checking accuracy on validation set\n",
            "Got 8964 / 10000 correct (89.64)\n",
            "\n",
            "Iteration  0  :  Got 463 / 512 correct (90.43)\n",
            "Iteration  30  :  Got 467 / 512 correct (91.21)\n",
            "Iteration  60  :  Got 471 / 512 correct (91.99)\n",
            "\n",
            "epoch  12  :\n",
            "Checking accuracy on validation set\n",
            "Got 8929 / 10000 correct (89.29)\n",
            "\n",
            "Iteration  0  :  Got 471 / 512 correct (91.99)\n",
            "Iteration  30  :  Got 472 / 512 correct (92.19)\n",
            "Iteration  60  :  Got 473 / 512 correct (92.38)\n",
            "\n",
            "epoch  13  :\n",
            "Checking accuracy on validation set\n",
            "Got 8962 / 10000 correct (89.62)\n",
            "\n",
            "Iteration  0  :  Got 472 / 512 correct (92.19)\n",
            "Iteration  30  :  Got 470 / 512 correct (91.80)\n",
            "Iteration  60  :  Got 472 / 512 correct (92.19)\n",
            "\n",
            "epoch  14  :\n",
            "Checking accuracy on validation set\n",
            "Got 9008 / 10000 correct (90.08)\n",
            "\n",
            "Iteration  0  :  Got 473 / 512 correct (92.38)\n",
            "Iteration  30  :  Got 462 / 512 correct (90.23)\n",
            "Iteration  60  :  Got 457 / 512 correct (89.26)\n",
            "\n",
            "epoch  15  :\n",
            "Checking accuracy on validation set\n",
            "Got 9072 / 10000 correct (90.72)\n",
            "\n",
            "Iteration  0  :  Got 473 / 512 correct (92.38)\n",
            "Iteration  30  :  Got 474 / 512 correct (92.58)\n",
            "Iteration  60  :  Got 470 / 512 correct (91.80)\n",
            "\n",
            "epoch  16  :\n",
            "Checking accuracy on validation set\n",
            "Got 9080 / 10000 correct (90.80)\n",
            "\n",
            "Iteration  0  :  Got 471 / 512 correct (91.99)\n",
            "Iteration  30  :  Got 472 / 512 correct (92.19)\n",
            "Iteration  60  :  Got 474 / 512 correct (92.58)\n",
            "\n",
            "epoch  17  :\n",
            "Checking accuracy on validation set\n",
            "Got 9092 / 10000 correct (90.92)\n",
            "\n",
            "Iteration  0  :  Got 464 / 512 correct (90.62)\n",
            "Iteration  30  :  Got 469 / 512 correct (91.60)\n",
            "Iteration  60  :  Got 478 / 512 correct (93.36)\n",
            "\n",
            "epoch  18  :\n",
            "Checking accuracy on validation set\n",
            "Got 9090 / 10000 correct (90.90)\n",
            "\n",
            "Iteration  0  :  Got 475 / 512 correct (92.77)\n",
            "Iteration  30  :  Got 472 / 512 correct (92.19)\n",
            "Iteration  60  :  Got 462 / 512 correct (90.23)\n",
            "\n",
            "epoch  19  :\n",
            "Checking accuracy on validation set\n",
            "Got 9136 / 10000 correct (91.36)\n",
            "\n"
          ]
        }
      ],
      "source": [
        "model = FF(28*28+10, [500, 500], 10, threshold= 2, device= device)\n",
        "val_acc, models = model.train(loader_train, loader_val, epochs= 20, opt_iter= 20, print_every= 30)"
      ]
    },
    {
      "cell_type": "code",
      "execution_count": null,
      "metadata": {
        "id": "qvnVTNg9-5pP"
      },
      "outputs": [],
      "source": [
        "index = np.argmax(val_acc)\n",
        "best_model = models[index]"
      ]
    },
    {
      "cell_type": "code",
      "execution_count": null,
      "metadata": {
        "colab": {
          "base_uri": "https://localhost:8080/"
        },
        "id": "sylTNX0v-MLZ",
        "outputId": "22ccf490-825f-4fcc-b845-6e9ed008228e"
      },
      "outputs": [
        {
          "name": "stdout",
          "output_type": "stream",
          "text": [
            "Checking accuracy on test set\n",
            "Got 9249 / 10000 correct (92.49)\n"
          ]
        },
        {
          "data": {
            "text/plain": [
              "0.9249"
            ]
          },
          "execution_count": 31,
          "metadata": {},
          "output_type": "execute_result"
        }
      ],
      "source": [
        "check_accuracy(loader_test, best_model.to(device))"
      ]
    },
    {
      "cell_type": "markdown",
      "source": [
        "### Part B\n",
        "Implimentation of Unsupervised Forward Forward Net.\n",
        "\n",
        "This code is inspired by https://github.com/IsmailKonak/FF-Algorithm-Pytorch-Implementation/blob/main/FF%20-%20Unsupervised/MLP/FF-Unsupervised.ipynb.\n",
        "\n",
        "But for the reason that I didn't understand, It doesn't work properly."
      ],
      "metadata": {
        "id": "62XJpNbaLtQ6"
      }
    },
    {
      "cell_type": "code",
      "execution_count": null,
      "metadata": {
        "id": "JYw_y_us_-Ba"
      },
      "outputs": [],
      "source": [
        "from tqdm.notebook import tqdm_notebook\n",
        "from sklearn.preprocessing import OneHotEncoder\n",
        "from scipy.signal import convolve2d"
      ]
    },
    {
      "cell_type": "code",
      "execution_count": null,
      "metadata": {
        "id": "gmOWReS6ADxi"
      },
      "outputs": [],
      "source": [
        "def label_to_oh(y):\n",
        "    y = y.numpy().reshape(-1,1)\n",
        "    ohe = OneHotEncoder().fit(np.arange(10).reshape((10,1)))\n",
        "    ohe_y = ohe.transform(y).toarray()\n",
        "    return torch.Tensor(ohe_y)\n",
        "\n",
        "def show_image(x):\n",
        "    x = x.squeeze()\n",
        "    plt.imshow(x, cmap=\"gray\")\n",
        "    plt.show()\n",
        "\n",
        "def mask_gen():\n",
        "    random_iter = np.random.randint(5,10)\n",
        "    random_image = np.random.randint(2, size=(1,28,28)).squeeze().astype(np.float32)\n",
        "    blur_filter = np.array([[1, 2, 1], [2, 4, 2], [1, 2, 1]]) / 16\n",
        "    for i in range(random_iter):\n",
        "        random_image = convolve2d(random_image, blur_filter, mode='same', boundary='symm')\n",
        "    mask = (random_image > 0.5).astype(np.float32)\n",
        "    return mask\n",
        "\n",
        "# The method for creating masks for negative data that I tried for testing purposes.\n",
        "def mask_gen1():\n",
        "    n = 28*28\n",
        "    arr1 = np.random.normal(loc=0, scale=0.01, size=int(5*n/8))\n",
        "    arr1 = arr1+ abs(0-arr1.min())\n",
        "    arr2 = np.random.normal(loc=1, scale=0.01, size=int(3*n/8))\n",
        "    arr2 = arr2 + abs(1-arr2.max())\n",
        "    arr = np.concatenate([arr1,arr2])\n",
        "    np.random.shuffle(arr)\n",
        "    mask = arr.reshape((1,28,28)).astype(np.float32)\n",
        "    return mask\n",
        "\n",
        "def negative_data_gen(batch):\n",
        "    batch = batch[0]\n",
        "    indexes = torch.randperm(batch.shape[0])\n",
        "    x1 = batch\n",
        "    x2 = batch[indexes]\n",
        "    mask = mask_gen()\n",
        "    merged_x1 = x1*mask\n",
        "    merged_x2 = x2*(1-mask)\n",
        "    hybrid_image = merged_x1+merged_x2\n",
        "    return hybrid_image"
      ]
    },
    {
      "cell_type": "code",
      "execution_count": null,
      "metadata": {
        "id": "aJGggJC7hEPo"
      },
      "outputs": [],
      "source": [
        "class FF_Unsupervised(nn.Module):\n",
        "  def __init__(self, input_size: int, hidden_size: list | tuple, num_classes : int, threshold, device = device):\n",
        "    super().__init__()\n",
        "    # assign layer objects to class attributes\n",
        "    self.num_layers = len(hidden_size)\n",
        "    self.num_classes = num_classes\n",
        "    self.device = device\n",
        "    self.threshold = threshold\n",
        "    layer_size = [input_size] + list(hidden_size)\n",
        "    self.layers = []\n",
        "    for i in range(self.num_layers):\n",
        "      self.layers.append(nn.Sequential(nn.Linear(layer_size[i], layer_size[i+1], device= device, dtype= dtype),\n",
        "                                       nn.ReLU()))\n",
        "\n",
        "  def layer_forward(self, x, layer: nn.Sequential):\n",
        "    # forward always defines connectivity\n",
        "    x_norm = x.norm(2, dim= 1, keepdim= True)\n",
        "    x_norm[x_norm == 0] = 1\n",
        "    out = x / x.norm(2, dim= 1, keepdim= True)\n",
        "    # print(x.device, list(layer[0].parameters())[0].device)\n",
        "    return layer(out)\n",
        "\n",
        "  def predict(self, x: torch.Tensor):\n",
        "    x = x.to(device= self.device, dtype= dtype)\n",
        "    h = flatten(x)\n",
        "    layers_output = torch.Tensor([]).cuda()\n",
        "    for i, layer in enumerate(self.layers):\n",
        "        h = self.layer_forward(h, layer)\n",
        "        # print(h)\n",
        "        layers_output = torch.cat([layers_output,h],1)\n",
        "    return layers_output\n",
        "\n",
        "  def train_layer(self, layer, x_positive, x_negetive, opt_iter, optimizer):\n",
        "    optimizer.zero_grad()\n",
        "    for itter in range(opt_iter):\n",
        "      out_positive = self.layer_forward(x_positive, layer)\n",
        "      out_negetive = self.layer_forward(x_negetive, layer)\n",
        "      goodness = out_positive.pow(2).mean(dim= 1)\n",
        "      badness = out_negetive.pow(2).mean(dim= 1)\n",
        "      loss = torch.log(1+ torch.exp(torch.cat((self.threshold - goodness, badness - self.threshold)))).mean()\n",
        "      # print(loss)\n",
        "      loss.backward()\n",
        "      optimizer.step()\n",
        "\n",
        "  def train(self, loader_train, epochs, opt_iter, lr = 1e-3, print_every= 100):\n",
        "    self.optim = [optim.Adam(layer.parameters(), lr = lr) for layer in self.layers]\n",
        "    for e in range(epochs):\n",
        "      for t, (x, y) in enumerate(loader_train):\n",
        "        # x = x.to(device= self.device, dtype= dtype)\n",
        "        out_positive = flatten(x).to(device= self.device, dtype= dtype)\n",
        "        out_negetive = negative_data_gen((x,y)).to(device= self.device, dtype= dtype)\n",
        "        out_negetive = flatten(out_negetive)\n",
        "        for i in range(self.num_layers):\n",
        "          # print(out_positive.shape, out_negetive.shape)\n",
        "          self.train_layer(self.layers[i], out_positive, out_negetive, opt_iter, self.optim[i])\n",
        "          out_positive = self.layer_forward(out_positive, self.layers[i]).detach()\n",
        "          out_negetive = self.layer_forward(out_negetive, self.layers[i]).detach()\n",
        "      #   if t % print_every == 0:\n",
        "      #     print(\"e = \", e,\" t = \", t)\n",
        "      # print()"
      ]
    },
    {
      "cell_type": "code",
      "execution_count": null,
      "metadata": {
        "id": "Cyyleo3AAcgN"
      },
      "outputs": [],
      "source": [
        "class LinearClassification(nn.Module):\n",
        "    def __init__(self, input_dimension):\n",
        "        super().__init__()\n",
        "        self.epoch_losses = []\n",
        "        self.linear = torch.nn.Linear(input_dimension, 10, device= device, dtype= dtype)\n",
        "        self.optimizer = optim.Adam(self.parameters(), lr=0.01)\n",
        "        self.criterion = nn.CrossEntropyLoss()\n",
        "        self.softmax = nn.Softmax()\n",
        "\n",
        "    def forward(self,x):\n",
        "        return self.linear(x)\n",
        "\n",
        "    def predict(self,x):\n",
        "        x = x.view(-1,28*28).cuda()\n",
        "        h_activity = model.predict(x)\n",
        "        y_h = self.forward(h_activity)\n",
        "        soft_out = self.softmax(y_h)\n",
        "        return soft_out.argmax()\n",
        "\n",
        "\n",
        "    def train(self, data_loader,epoch_num):\n",
        "        linear_loop = tqdm_notebook(range(epoch_num),total=epoch_num)\n",
        "        for i in linear_loop:\n",
        "            batch_losses = []\n",
        "            for batch in iter(data_loader):\n",
        "                x,y = batch\n",
        "                x = x.view(-1,28*28).cuda()\n",
        "                y_r = label_to_oh(y).cuda()\n",
        "                h_activity = model.predict(x)\n",
        "                # print(x)\n",
        "                # print(h_activity.dtype)\n",
        "                y_h = self.forward(h_activity)\n",
        "                loss = self.criterion(y_h,y_r)\n",
        "                self.optimizer.zero_grad()\n",
        "                loss.backward()\n",
        "                self.optimizer.step()\n",
        "                batch_losses.append(loss)\n",
        "            # print(batch_losses)\n",
        "            self.epoch_losses.append(float(sum(batch_losses)/len(batch_losses)))\n",
        "            linear_loop.set_description(f\"Epoch [{i+1}/{epoch_num}]: \")\n",
        "            linear_loop.set_postfix(loss=self.epoch_losses[i])\n",
        "\n",
        "    def test(self, data_loader):\n",
        "        batch_losses = []\n",
        "        test_loss = 0\n",
        "        for batch in iter(data_loader):\n",
        "            x,y = batch\n",
        "            x = x.view(-1,28*28).cuda()\n",
        "            y_r = label_to_oh(y).cuda()\n",
        "            h_activity = model.predict(x)\n",
        "            y_h = self.forward(h_activity)\n",
        "            loss = self.criterion(y_h,y_r)\n",
        "            batch_losses.append(loss)\n",
        "        test_loss = float(sum(batch_losses)/len(batch_losses))\n",
        "        return test_loss"
      ]
    },
    {
      "cell_type": "code",
      "execution_count": null,
      "metadata": {
        "id": "bGJBGxXe_AiZ"
      },
      "outputs": [],
      "source": [
        "mnist_train = datasets.MNIST('./datasets', train=True, download=True,\n",
        "                             transform= T.ToTensor())\n",
        "mnist_test = datasets.MNIST('./datasets', train=False, download=True,\n",
        "                             transform= T.ToTensor())\n",
        "loader_test = DataLoader(mnist_test, batch_size=1024)\n",
        "loader_train = DataLoader(mnist_train, batch_size=1024)"
      ]
    },
    {
      "cell_type": "code",
      "execution_count": null,
      "metadata": {
        "id": "oZjGi0Qw_Hlh"
      },
      "outputs": [],
      "source": [
        "model = FF_Unsupervised(28*28, [500, 500, 500, 500], 10, threshold= 2, device= device)"
      ]
    },
    {
      "cell_type": "code",
      "execution_count": null,
      "metadata": {
        "colab": {
          "background_save": true
        },
        "id": "CkijubttAwSZ"
      },
      "outputs": [],
      "source": [
        "model.train(loader_train, 20, 40, print_every= 20)"
      ]
    },
    {
      "cell_type": "code",
      "execution_count": null,
      "metadata": {
        "colab": {
          "base_uri": "https://localhost:8080/",
          "height": 49,
          "referenced_widgets": [
            "6270940e5a334093aef11dc770a0546a",
            "a2ccf0a3f9a348399fa09f85e4a74a6b",
            "ab2a4845ada64745b198495f0ebb14b0",
            "0e819fb1877b450c8d916f959c033ed5",
            "d1f4a00bd47e467dbd045323a5b4491a",
            "bc5dd9e9dbbb406599ab77cb49d6f597",
            "c01e63ce0e0b4181830270e21a2d06e0",
            "890af9ca00c74dc0a285915380255ea8",
            "f4e325c4ee4248cf8b9af71c1e2b5905",
            "45d419c07e834d4f8ca7d67e888004d6",
            "4d1dc76d7fda40459e503da02ff30f80"
          ]
        },
        "id": "PZkfqVW3BpqQ",
        "outputId": "ac479ee7-6769-4630-82a1-bdb935d64610"
      },
      "outputs": [
        {
          "data": {
            "application/vnd.jupyter.widget-view+json": {
              "model_id": "6270940e5a334093aef11dc770a0546a",
              "version_major": 2,
              "version_minor": 0
            },
            "text/plain": [
              "  0%|          | 0/100 [00:00<?, ?it/s]"
            ]
          },
          "metadata": {},
          "output_type": "display_data"
        }
      ],
      "source": [
        "linear_model = LinearClassification(4*500)\n",
        "losses = linear_model.train(loader_train, 100)"
      ]
    },
    {
      "cell_type": "code",
      "execution_count": null,
      "metadata": {
        "id": "3HhpcFwfF6Ak"
      },
      "outputs": [],
      "source": [
        "import matplotlib.pyplot as plt\n",
        "plt.plot(linear_model.epoch_losses)\n",
        "plt.title(\"Loss over training\")\n",
        "plt.show()"
      ]
    },
    {
      "cell_type": "code",
      "execution_count": null,
      "metadata": {
        "colab": {
          "base_uri": "https://localhost:8080/"
        },
        "id": "rmpBktmuKOYm",
        "outputId": "07fd0d04-4b46-4331-90ff-719978d006e4"
      },
      "outputs": [
        {
          "name": "stdout",
          "output_type": "stream",
          "text": [
            "[11.941828724442027]\n"
          ]
        }
      ],
      "source": [
        "print(linear_model.epoch_losses)"
      ]
    }
  ],
  "metadata": {
    "accelerator": "GPU",
    "colab": {
      "provenance": []
    },
    "kernelspec": {
      "display_name": "Python 3",
      "name": "python3"
    },
    "language_info": {
      "name": "python"
    },
    "widgets": {
      "application/vnd.jupyter.widget-state+json": {
        "0e819fb1877b450c8d916f959c033ed5": {
          "model_module": "@jupyter-widgets/controls",
          "model_module_version": "1.5.0",
          "model_name": "HTMLModel",
          "state": {
            "_dom_classes": [],
            "_model_module": "@jupyter-widgets/controls",
            "_model_module_version": "1.5.0",
            "_model_name": "HTMLModel",
            "_view_count": null,
            "_view_module": "@jupyter-widgets/controls",
            "_view_module_version": "1.5.0",
            "_view_name": "HTMLView",
            "description": "",
            "description_tooltip": null,
            "layout": "IPY_MODEL_45d419c07e834d4f8ca7d67e888004d6",
            "placeholder": "​",
            "style": "IPY_MODEL_4d1dc76d7fda40459e503da02ff30f80",
            "value": " 1/100 [00:06&lt;10:08,  6.15s/it, loss=nan]"
          }
        },
        "45d419c07e834d4f8ca7d67e888004d6": {
          "model_module": "@jupyter-widgets/base",
          "model_module_version": "1.2.0",
          "model_name": "LayoutModel",
          "state": {
            "_model_module": "@jupyter-widgets/base",
            "_model_module_version": "1.2.0",
            "_model_name": "LayoutModel",
            "_view_count": null,
            "_view_module": "@jupyter-widgets/base",
            "_view_module_version": "1.2.0",
            "_view_name": "LayoutView",
            "align_content": null,
            "align_items": null,
            "align_self": null,
            "border": null,
            "bottom": null,
            "display": null,
            "flex": null,
            "flex_flow": null,
            "grid_area": null,
            "grid_auto_columns": null,
            "grid_auto_flow": null,
            "grid_auto_rows": null,
            "grid_column": null,
            "grid_gap": null,
            "grid_row": null,
            "grid_template_areas": null,
            "grid_template_columns": null,
            "grid_template_rows": null,
            "height": null,
            "justify_content": null,
            "justify_items": null,
            "left": null,
            "margin": null,
            "max_height": null,
            "max_width": null,
            "min_height": null,
            "min_width": null,
            "object_fit": null,
            "object_position": null,
            "order": null,
            "overflow": null,
            "overflow_x": null,
            "overflow_y": null,
            "padding": null,
            "right": null,
            "top": null,
            "visibility": null,
            "width": null
          }
        },
        "4d1dc76d7fda40459e503da02ff30f80": {
          "model_module": "@jupyter-widgets/controls",
          "model_module_version": "1.5.0",
          "model_name": "DescriptionStyleModel",
          "state": {
            "_model_module": "@jupyter-widgets/controls",
            "_model_module_version": "1.5.0",
            "_model_name": "DescriptionStyleModel",
            "_view_count": null,
            "_view_module": "@jupyter-widgets/base",
            "_view_module_version": "1.2.0",
            "_view_name": "StyleView",
            "description_width": ""
          }
        },
        "6270940e5a334093aef11dc770a0546a": {
          "model_module": "@jupyter-widgets/controls",
          "model_module_version": "1.5.0",
          "model_name": "HBoxModel",
          "state": {
            "_dom_classes": [],
            "_model_module": "@jupyter-widgets/controls",
            "_model_module_version": "1.5.0",
            "_model_name": "HBoxModel",
            "_view_count": null,
            "_view_module": "@jupyter-widgets/controls",
            "_view_module_version": "1.5.0",
            "_view_name": "HBoxView",
            "box_style": "",
            "children": [
              "IPY_MODEL_a2ccf0a3f9a348399fa09f85e4a74a6b",
              "IPY_MODEL_ab2a4845ada64745b198495f0ebb14b0",
              "IPY_MODEL_0e819fb1877b450c8d916f959c033ed5"
            ],
            "layout": "IPY_MODEL_d1f4a00bd47e467dbd045323a5b4491a"
          }
        },
        "890af9ca00c74dc0a285915380255ea8": {
          "model_module": "@jupyter-widgets/base",
          "model_module_version": "1.2.0",
          "model_name": "LayoutModel",
          "state": {
            "_model_module": "@jupyter-widgets/base",
            "_model_module_version": "1.2.0",
            "_model_name": "LayoutModel",
            "_view_count": null,
            "_view_module": "@jupyter-widgets/base",
            "_view_module_version": "1.2.0",
            "_view_name": "LayoutView",
            "align_content": null,
            "align_items": null,
            "align_self": null,
            "border": null,
            "bottom": null,
            "display": null,
            "flex": null,
            "flex_flow": null,
            "grid_area": null,
            "grid_auto_columns": null,
            "grid_auto_flow": null,
            "grid_auto_rows": null,
            "grid_column": null,
            "grid_gap": null,
            "grid_row": null,
            "grid_template_areas": null,
            "grid_template_columns": null,
            "grid_template_rows": null,
            "height": null,
            "justify_content": null,
            "justify_items": null,
            "left": null,
            "margin": null,
            "max_height": null,
            "max_width": null,
            "min_height": null,
            "min_width": null,
            "object_fit": null,
            "object_position": null,
            "order": null,
            "overflow": null,
            "overflow_x": null,
            "overflow_y": null,
            "padding": null,
            "right": null,
            "top": null,
            "visibility": null,
            "width": null
          }
        },
        "a2ccf0a3f9a348399fa09f85e4a74a6b": {
          "model_module": "@jupyter-widgets/controls",
          "model_module_version": "1.5.0",
          "model_name": "HTMLModel",
          "state": {
            "_dom_classes": [],
            "_model_module": "@jupyter-widgets/controls",
            "_model_module_version": "1.5.0",
            "_model_name": "HTMLModel",
            "_view_count": null,
            "_view_module": "@jupyter-widgets/controls",
            "_view_module_version": "1.5.0",
            "_view_name": "HTMLView",
            "description": "",
            "description_tooltip": null,
            "layout": "IPY_MODEL_bc5dd9e9dbbb406599ab77cb49d6f597",
            "placeholder": "​",
            "style": "IPY_MODEL_c01e63ce0e0b4181830270e21a2d06e0",
            "value": "Epoch [1/100]: :   1%"
          }
        },
        "ab2a4845ada64745b198495f0ebb14b0": {
          "model_module": "@jupyter-widgets/controls",
          "model_module_version": "1.5.0",
          "model_name": "FloatProgressModel",
          "state": {
            "_dom_classes": [],
            "_model_module": "@jupyter-widgets/controls",
            "_model_module_version": "1.5.0",
            "_model_name": "FloatProgressModel",
            "_view_count": null,
            "_view_module": "@jupyter-widgets/controls",
            "_view_module_version": "1.5.0",
            "_view_name": "ProgressView",
            "bar_style": "",
            "description": "",
            "description_tooltip": null,
            "layout": "IPY_MODEL_890af9ca00c74dc0a285915380255ea8",
            "max": 100,
            "min": 0,
            "orientation": "horizontal",
            "style": "IPY_MODEL_f4e325c4ee4248cf8b9af71c1e2b5905",
            "value": 1
          }
        },
        "bc5dd9e9dbbb406599ab77cb49d6f597": {
          "model_module": "@jupyter-widgets/base",
          "model_module_version": "1.2.0",
          "model_name": "LayoutModel",
          "state": {
            "_model_module": "@jupyter-widgets/base",
            "_model_module_version": "1.2.0",
            "_model_name": "LayoutModel",
            "_view_count": null,
            "_view_module": "@jupyter-widgets/base",
            "_view_module_version": "1.2.0",
            "_view_name": "LayoutView",
            "align_content": null,
            "align_items": null,
            "align_self": null,
            "border": null,
            "bottom": null,
            "display": null,
            "flex": null,
            "flex_flow": null,
            "grid_area": null,
            "grid_auto_columns": null,
            "grid_auto_flow": null,
            "grid_auto_rows": null,
            "grid_column": null,
            "grid_gap": null,
            "grid_row": null,
            "grid_template_areas": null,
            "grid_template_columns": null,
            "grid_template_rows": null,
            "height": null,
            "justify_content": null,
            "justify_items": null,
            "left": null,
            "margin": null,
            "max_height": null,
            "max_width": null,
            "min_height": null,
            "min_width": null,
            "object_fit": null,
            "object_position": null,
            "order": null,
            "overflow": null,
            "overflow_x": null,
            "overflow_y": null,
            "padding": null,
            "right": null,
            "top": null,
            "visibility": null,
            "width": null
          }
        },
        "c01e63ce0e0b4181830270e21a2d06e0": {
          "model_module": "@jupyter-widgets/controls",
          "model_module_version": "1.5.0",
          "model_name": "DescriptionStyleModel",
          "state": {
            "_model_module": "@jupyter-widgets/controls",
            "_model_module_version": "1.5.0",
            "_model_name": "DescriptionStyleModel",
            "_view_count": null,
            "_view_module": "@jupyter-widgets/base",
            "_view_module_version": "1.2.0",
            "_view_name": "StyleView",
            "description_width": ""
          }
        },
        "d1f4a00bd47e467dbd045323a5b4491a": {
          "model_module": "@jupyter-widgets/base",
          "model_module_version": "1.2.0",
          "model_name": "LayoutModel",
          "state": {
            "_model_module": "@jupyter-widgets/base",
            "_model_module_version": "1.2.0",
            "_model_name": "LayoutModel",
            "_view_count": null,
            "_view_module": "@jupyter-widgets/base",
            "_view_module_version": "1.2.0",
            "_view_name": "LayoutView",
            "align_content": null,
            "align_items": null,
            "align_self": null,
            "border": null,
            "bottom": null,
            "display": null,
            "flex": null,
            "flex_flow": null,
            "grid_area": null,
            "grid_auto_columns": null,
            "grid_auto_flow": null,
            "grid_auto_rows": null,
            "grid_column": null,
            "grid_gap": null,
            "grid_row": null,
            "grid_template_areas": null,
            "grid_template_columns": null,
            "grid_template_rows": null,
            "height": null,
            "justify_content": null,
            "justify_items": null,
            "left": null,
            "margin": null,
            "max_height": null,
            "max_width": null,
            "min_height": null,
            "min_width": null,
            "object_fit": null,
            "object_position": null,
            "order": null,
            "overflow": null,
            "overflow_x": null,
            "overflow_y": null,
            "padding": null,
            "right": null,
            "top": null,
            "visibility": null,
            "width": null
          }
        },
        "f4e325c4ee4248cf8b9af71c1e2b5905": {
          "model_module": "@jupyter-widgets/controls",
          "model_module_version": "1.5.0",
          "model_name": "ProgressStyleModel",
          "state": {
            "_model_module": "@jupyter-widgets/controls",
            "_model_module_version": "1.5.0",
            "_model_name": "ProgressStyleModel",
            "_view_count": null,
            "_view_module": "@jupyter-widgets/base",
            "_view_module_version": "1.2.0",
            "_view_name": "StyleView",
            "bar_color": null,
            "description_width": ""
          }
        }
      }
    }
  },
  "nbformat": 4,
  "nbformat_minor": 0
}