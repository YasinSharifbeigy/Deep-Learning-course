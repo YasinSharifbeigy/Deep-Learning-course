{
 "cells": [
  {
   "cell_type": "code",
   "execution_count": 1,
   "metadata": {},
   "outputs": [],
   "source": [
    "import pandas as pd\n",
    "import numpy as np\n",
    "import matplotlib.pyplot as plt\n",
    "import seaborn as sns\n",
    "from sklearn import svm\n",
    "from sklearn.preprocessing import MinMaxScaler, OneHotEncoder\n",
    "from sklearn.model_selection import train_test_split\n",
    "from sklearn.metrics import accuracy_score, f1_score, precision_score, recall_score, confusion_matrix"
   ]
  },
  {
   "cell_type": "markdown",
   "metadata": {},
   "source": [
    "### Importing Data"
   ]
  },
  {
   "cell_type": "code",
   "execution_count": 2,
   "metadata": {},
   "outputs": [
    {
     "data": {
      "text/html": [
       "<div>\n",
       "<style scoped>\n",
       "    .dataframe tbody tr th:only-of-type {\n",
       "        vertical-align: middle;\n",
       "    }\n",
       "\n",
       "    .dataframe tbody tr th {\n",
       "        vertical-align: top;\n",
       "    }\n",
       "\n",
       "    .dataframe thead th {\n",
       "        text-align: right;\n",
       "    }\n",
       "</style>\n",
       "<table border=\"1\" class=\"dataframe\">\n",
       "  <thead>\n",
       "    <tr style=\"text-align: right;\">\n",
       "      <th></th>\n",
       "      <th>age</th>\n",
       "      <th>sex</th>\n",
       "      <th>chest pain type</th>\n",
       "      <th>resting bp s</th>\n",
       "      <th>cholesterol</th>\n",
       "      <th>fasting blood sugar</th>\n",
       "      <th>resting ecg</th>\n",
       "      <th>max heart rate</th>\n",
       "      <th>exercise angina</th>\n",
       "      <th>oldpeak</th>\n",
       "      <th>ST slope</th>\n",
       "      <th>target</th>\n",
       "    </tr>\n",
       "  </thead>\n",
       "  <tbody>\n",
       "    <tr>\n",
       "      <th>0</th>\n",
       "      <td>40</td>\n",
       "      <td>1</td>\n",
       "      <td>2</td>\n",
       "      <td>140</td>\n",
       "      <td>289</td>\n",
       "      <td>0</td>\n",
       "      <td>0</td>\n",
       "      <td>172</td>\n",
       "      <td>0</td>\n",
       "      <td>0.0</td>\n",
       "      <td>1</td>\n",
       "      <td>0</td>\n",
       "    </tr>\n",
       "    <tr>\n",
       "      <th>1</th>\n",
       "      <td>49</td>\n",
       "      <td>0</td>\n",
       "      <td>3</td>\n",
       "      <td>160</td>\n",
       "      <td>180</td>\n",
       "      <td>0</td>\n",
       "      <td>0</td>\n",
       "      <td>156</td>\n",
       "      <td>0</td>\n",
       "      <td>1.0</td>\n",
       "      <td>2</td>\n",
       "      <td>1</td>\n",
       "    </tr>\n",
       "    <tr>\n",
       "      <th>2</th>\n",
       "      <td>37</td>\n",
       "      <td>1</td>\n",
       "      <td>2</td>\n",
       "      <td>130</td>\n",
       "      <td>283</td>\n",
       "      <td>0</td>\n",
       "      <td>1</td>\n",
       "      <td>98</td>\n",
       "      <td>0</td>\n",
       "      <td>0.0</td>\n",
       "      <td>1</td>\n",
       "      <td>0</td>\n",
       "    </tr>\n",
       "    <tr>\n",
       "      <th>3</th>\n",
       "      <td>48</td>\n",
       "      <td>0</td>\n",
       "      <td>4</td>\n",
       "      <td>138</td>\n",
       "      <td>214</td>\n",
       "      <td>0</td>\n",
       "      <td>0</td>\n",
       "      <td>108</td>\n",
       "      <td>1</td>\n",
       "      <td>1.5</td>\n",
       "      <td>2</td>\n",
       "      <td>1</td>\n",
       "    </tr>\n",
       "    <tr>\n",
       "      <th>4</th>\n",
       "      <td>54</td>\n",
       "      <td>1</td>\n",
       "      <td>3</td>\n",
       "      <td>150</td>\n",
       "      <td>195</td>\n",
       "      <td>0</td>\n",
       "      <td>0</td>\n",
       "      <td>122</td>\n",
       "      <td>0</td>\n",
       "      <td>0.0</td>\n",
       "      <td>1</td>\n",
       "      <td>0</td>\n",
       "    </tr>\n",
       "  </tbody>\n",
       "</table>\n",
       "</div>"
      ],
      "text/plain": [
       "   age  sex  chest pain type  resting bp s  cholesterol  fasting blood sugar  \\\n",
       "0   40    1                2           140          289                    0   \n",
       "1   49    0                3           160          180                    0   \n",
       "2   37    1                2           130          283                    0   \n",
       "3   48    0                4           138          214                    0   \n",
       "4   54    1                3           150          195                    0   \n",
       "\n",
       "   resting ecg  max heart rate  exercise angina  oldpeak  ST slope  target  \n",
       "0            0             172                0      0.0         1       0  \n",
       "1            0             156                0      1.0         2       1  \n",
       "2            1              98                0      0.0         1       0  \n",
       "3            0             108                1      1.5         2       1  \n",
       "4            0             122                0      0.0         1       0  "
      ]
     },
     "execution_count": 2,
     "metadata": {},
     "output_type": "execute_result"
    }
   ],
   "source": [
    "data = pd.read_csv('Heart_Disease_Dataset.csv')\n",
    "data.head()"
   ]
  },
  {
   "cell_type": "markdown",
   "metadata": {},
   "source": [
    "### part(آ)"
   ]
  },
  {
   "cell_type": "code",
   "execution_count": 3,
   "metadata": {},
   "outputs": [
    {
     "name": "stdout",
     "output_type": "stream",
     "text": [
      "size of dataset ==  1190\n",
      "number of Nan values ==  0\n",
      "class 1 has  629  sampels and class 0 has  561  sampels.\n"
     ]
    },
    {
     "data": {
      "text/plain": [
       "<Axes: xlabel='sex', ylabel='Count'>"
      ]
     },
     "execution_count": 3,
     "metadata": {},
     "output_type": "execute_result"
    },
    {
     "data": {
      "image/png": "[encoded data removed]",
      "text/plain": [
       "<Figure size 1000x300 with 2 Axes>"
      ]
     },
     "metadata": {},
     "output_type": "display_data"
    }
   ],
   "source": [
    "n = len(data)\n",
    "print(\"size of dataset == \", n)\n",
    "\n",
    "N_Nan = data.isna().sum().sum()\n",
    "print(\"number of Nan values == \", N_Nan)\n",
    "\n",
    "N_1 = (data[\"target\"] == 1).sum()\n",
    "N_2 = (data[\"target\"] == 0).sum()\n",
    "print(\"class 1 has \", N_1, \" sampels and class 0 has \", N_2, \" sampels.\")\n",
    "\n",
    "fig, ax = plt.subplots(1,2, figsize=(10, 3))\n",
    "sns.histplot(data= data, x= \"age\", hue=\"target\", ax=ax[0], edgecolor=None, shrink=0.95)\n",
    "sns.histplot(data= data, x= \"sex\", hue=\"target\", ax=ax[1], edgecolor=None, shrink=0.95)"
   ]
  },
  {
   "cell_type": "markdown",
   "metadata": {},
   "source": [
    "در سلول زیر داده های کتگوریکال و عددی را شناسایی واز هم جدا کردیم.همچنین داده های کتگوریکال را به دوبخش باینری و غیرباینری تقسیم کردیم."
   ]
  },
  {
   "cell_type": "code",
   "execution_count": 4,
   "metadata": {},
   "outputs": [],
   "source": [
    "cat_features = []\n",
    "numeric_features = []\n",
    "binary_features = []\n",
    "nonbinary_cat_features = []\n",
    "for feature in data.columns:\n",
    "    if(feature == \"target\"):\n",
    "        continue\n",
    "    cats = set(list(data[feature]))\n",
    "    if(len(cats)<5):\n",
    "        cat_features.append(feature)\n",
    "        if(len(cats) == 2):\n",
    "            binary_features.append(feature)\n",
    "        else:\n",
    "            nonbinary_cat_features.append(feature)\n",
    "    else:\n",
    "        numeric_features.append(feature)"
   ]
  },
  {
   "cell_type": "markdown",
   "metadata": {},
   "source": [
    "### part(ب)\n",
    "<div dir=\"rtl\"> <font size=\"4\" face=\"HM XNiloofar\">\n",
    "با استفاده از z-test داده های پرت تمام ویژگی های عددی را حذف کردیم.\n",
    "</font> </div>"
   ]
  },
  {
   "cell_type": "code",
   "execution_count": 5,
   "metadata": {},
   "outputs": [
    {
     "name": "stdout",
     "output_type": "stream",
     "text": [
      "size of data after removing outliers ==  1162\n"
     ]
    }
   ],
   "source": [
    "data_numeric = data[numeric_features]\n",
    "mean = data_numeric.mean()\n",
    "std_div = np.sqrt(data_numeric.var())\n",
    "data_score = (data_numeric - mean)/std_div\n",
    "Data = data[(np.abs(data_score) <= 3).all(axis= 1)]\n",
    "N = len(Data)\n",
    "print(\"size of data after removing outliers == \", N)"
   ]
  },
  {
   "cell_type": "markdown",
   "metadata": {},
   "source": [
    "ویژگی های کتگوریکال را به متغیرهای دامی تغییر دادم. هرچند شاید این کار لازم نبود."
   ]
  },
  {
   "cell_type": "code",
   "execution_count": 6,
   "metadata": {},
   "outputs": [
    {
     "data": {
      "text/html": [
       "<div>\n",
       "<style scoped>\n",
       "    .dataframe tbody tr th:only-of-type {\n",
       "        vertical-align: middle;\n",
       "    }\n",
       "\n",
       "    .dataframe tbody tr th {\n",
       "        vertical-align: top;\n",
       "    }\n",
       "\n",
       "    .dataframe thead th {\n",
       "        text-align: right;\n",
       "    }\n",
       "</style>\n",
       "<table border=\"1\" class=\"dataframe\">\n",
       "  <thead>\n",
       "    <tr style=\"text-align: right;\">\n",
       "      <th></th>\n",
       "      <th>age</th>\n",
       "      <th>sex</th>\n",
       "      <th>resting bp s</th>\n",
       "      <th>cholesterol</th>\n",
       "      <th>fasting blood sugar</th>\n",
       "      <th>max heart rate</th>\n",
       "      <th>exercise angina</th>\n",
       "      <th>oldpeak</th>\n",
       "      <th>chest pain type_1</th>\n",
       "      <th>chest pain type_2</th>\n",
       "      <th>chest pain type_3</th>\n",
       "      <th>chest pain type_4</th>\n",
       "      <th>resting ecg_0</th>\n",
       "      <th>resting ecg_1</th>\n",
       "      <th>resting ecg_2</th>\n",
       "      <th>ST slope_0</th>\n",
       "      <th>ST slope_1</th>\n",
       "      <th>ST slope_2</th>\n",
       "      <th>ST slope_3</th>\n",
       "    </tr>\n",
       "  </thead>\n",
       "  <tbody>\n",
       "    <tr>\n",
       "      <th>0</th>\n",
       "      <td>40</td>\n",
       "      <td>1</td>\n",
       "      <td>140</td>\n",
       "      <td>289</td>\n",
       "      <td>0</td>\n",
       "      <td>172</td>\n",
       "      <td>0</td>\n",
       "      <td>0.0</td>\n",
       "      <td>0</td>\n",
       "      <td>1</td>\n",
       "      <td>0</td>\n",
       "      <td>0</td>\n",
       "      <td>1</td>\n",
       "      <td>0</td>\n",
       "      <td>0</td>\n",
       "      <td>0</td>\n",
       "      <td>1</td>\n",
       "      <td>0</td>\n",
       "      <td>0</td>\n",
       "    </tr>\n",
       "    <tr>\n",
       "      <th>1</th>\n",
       "      <td>49</td>\n",
       "      <td>0</td>\n",
       "      <td>160</td>\n",
       "      <td>180</td>\n",
       "      <td>0</td>\n",
       "      <td>156</td>\n",
       "      <td>0</td>\n",
       "      <td>1.0</td>\n",
       "      <td>0</td>\n",
       "      <td>0</td>\n",
       "      <td>1</td>\n",
       "      <td>0</td>\n",
       "      <td>1</td>\n",
       "      <td>0</td>\n",
       "      <td>0</td>\n",
       "      <td>0</td>\n",
       "      <td>0</td>\n",
       "      <td>1</td>\n",
       "      <td>0</td>\n",
       "    </tr>\n",
       "    <tr>\n",
       "      <th>2</th>\n",
       "      <td>37</td>\n",
       "      <td>1</td>\n",
       "      <td>130</td>\n",
       "      <td>283</td>\n",
       "      <td>0</td>\n",
       "      <td>98</td>\n",
       "      <td>0</td>\n",
       "      <td>0.0</td>\n",
       "      <td>0</td>\n",
       "      <td>1</td>\n",
       "      <td>0</td>\n",
       "      <td>0</td>\n",
       "      <td>0</td>\n",
       "      <td>1</td>\n",
       "      <td>0</td>\n",
       "      <td>0</td>\n",
       "      <td>1</td>\n",
       "      <td>0</td>\n",
       "      <td>0</td>\n",
       "    </tr>\n",
       "    <tr>\n",
       "      <th>3</th>\n",
       "      <td>48</td>\n",
       "      <td>0</td>\n",
       "      <td>138</td>\n",
       "      <td>214</td>\n",
       "      <td>0</td>\n",
       "      <td>108</td>\n",
       "      <td>1</td>\n",
       "      <td>1.5</td>\n",
       "      <td>0</td>\n",
       "      <td>0</td>\n",
       "      <td>0</td>\n",
       "      <td>1</td>\n",
       "      <td>1</td>\n",
       "      <td>0</td>\n",
       "      <td>0</td>\n",
       "      <td>0</td>\n",
       "      <td>0</td>\n",
       "      <td>1</td>\n",
       "      <td>0</td>\n",
       "    </tr>\n",
       "    <tr>\n",
       "      <th>4</th>\n",
       "      <td>54</td>\n",
       "      <td>1</td>\n",
       "      <td>150</td>\n",
       "      <td>195</td>\n",
       "      <td>0</td>\n",
       "      <td>122</td>\n",
       "      <td>0</td>\n",
       "      <td>0.0</td>\n",
       "      <td>0</td>\n",
       "      <td>0</td>\n",
       "      <td>1</td>\n",
       "      <td>0</td>\n",
       "      <td>1</td>\n",
       "      <td>0</td>\n",
       "      <td>0</td>\n",
       "      <td>0</td>\n",
       "      <td>1</td>\n",
       "      <td>0</td>\n",
       "      <td>0</td>\n",
       "    </tr>\n",
       "  </tbody>\n",
       "</table>\n",
       "</div>"
      ],
      "text/plain": [
       "   age  sex  resting bp s  cholesterol  fasting blood sugar  max heart rate  \\\n",
       "0   40    1           140          289                    0             172   \n",
       "1   49    0           160          180                    0             156   \n",
       "2   37    1           130          283                    0              98   \n",
       "3   48    0           138          214                    0             108   \n",
       "4   54    1           150          195                    0             122   \n",
       "\n",
       "   exercise angina  oldpeak  chest pain type_1  chest pain type_2  \\\n",
       "0                0      0.0                  0                  1   \n",
       "1                0      1.0                  0                  0   \n",
       "2                0      0.0                  0                  1   \n",
       "3                1      1.5                  0                  0   \n",
       "4                0      0.0                  0                  0   \n",
       "\n",
       "   chest pain type_3  chest pain type_4  resting ecg_0  resting ecg_1  \\\n",
       "0                  0                  0              1              0   \n",
       "1                  1                  0              1              0   \n",
       "2                  0                  0              0              1   \n",
       "3                  0                  1              1              0   \n",
       "4                  1                  0              1              0   \n",
       "\n",
       "   resting ecg_2  ST slope_0  ST slope_1  ST slope_2  ST slope_3  \n",
       "0              0           0           1           0           0  \n",
       "1              0           0           0           1           0  \n",
       "2              0           0           1           0           0  \n",
       "3              0           0           0           1           0  \n",
       "4              0           0           1           0           0  "
      ]
     },
     "execution_count": 6,
     "metadata": {},
     "output_type": "execute_result"
    }
   ],
   "source": [
    "Data_X = Data.drop(\"target\", axis= 1)\n",
    "y = Data[\"target\"]\n",
    "X = pd.get_dummies(Data_X, columns= nonbinary_cat_features)\n",
    "X.head()"
   ]
  },
  {
   "cell_type": "markdown",
   "metadata": {},
   "source": [
    "### Part(ج): Nomalization"
   ]
  },
  {
   "cell_type": "code",
   "execution_count": 7,
   "metadata": {},
   "outputs": [
    {
     "data": {
      "text/html": [
       "<div>\n",
       "<style scoped>\n",
       "    .dataframe tbody tr th:only-of-type {\n",
       "        vertical-align: middle;\n",
       "    }\n",
       "\n",
       "    .dataframe tbody tr th {\n",
       "        vertical-align: top;\n",
       "    }\n",
       "\n",
       "    .dataframe thead th {\n",
       "        text-align: right;\n",
       "    }\n",
       "</style>\n",
       "<table border=\"1\" class=\"dataframe\">\n",
       "  <thead>\n",
       "    <tr style=\"text-align: right;\">\n",
       "      <th></th>\n",
       "      <th>age</th>\n",
       "      <th>sex</th>\n",
       "      <th>resting bp s</th>\n",
       "      <th>cholesterol</th>\n",
       "      <th>fasting blood sugar</th>\n",
       "      <th>max heart rate</th>\n",
       "      <th>exercise angina</th>\n",
       "      <th>oldpeak</th>\n",
       "      <th>chest pain type_1</th>\n",
       "      <th>chest pain type_2</th>\n",
       "      <th>chest pain type_3</th>\n",
       "      <th>chest pain type_4</th>\n",
       "      <th>resting ecg_0</th>\n",
       "      <th>resting ecg_1</th>\n",
       "      <th>resting ecg_2</th>\n",
       "      <th>ST slope_0</th>\n",
       "      <th>ST slope_1</th>\n",
       "      <th>ST slope_2</th>\n",
       "      <th>ST slope_3</th>\n",
       "    </tr>\n",
       "  </thead>\n",
       "  <tbody>\n",
       "    <tr>\n",
       "      <th>0</th>\n",
       "      <td>0.244898</td>\n",
       "      <td>1</td>\n",
       "      <td>0.571429</td>\n",
       "      <td>0.588595</td>\n",
       "      <td>0</td>\n",
       "      <td>0.777778</td>\n",
       "      <td>0</td>\n",
       "      <td>0.333333</td>\n",
       "      <td>0</td>\n",
       "      <td>1</td>\n",
       "      <td>0</td>\n",
       "      <td>0</td>\n",
       "      <td>1</td>\n",
       "      <td>0</td>\n",
       "      <td>0</td>\n",
       "      <td>0</td>\n",
       "      <td>1</td>\n",
       "      <td>0</td>\n",
       "      <td>0</td>\n",
       "    </tr>\n",
       "    <tr>\n",
       "      <th>1</th>\n",
       "      <td>0.428571</td>\n",
       "      <td>0</td>\n",
       "      <td>0.761905</td>\n",
       "      <td>0.366599</td>\n",
       "      <td>0</td>\n",
       "      <td>0.659259</td>\n",
       "      <td>0</td>\n",
       "      <td>0.500000</td>\n",
       "      <td>0</td>\n",
       "      <td>0</td>\n",
       "      <td>1</td>\n",
       "      <td>0</td>\n",
       "      <td>1</td>\n",
       "      <td>0</td>\n",
       "      <td>0</td>\n",
       "      <td>0</td>\n",
       "      <td>0</td>\n",
       "      <td>1</td>\n",
       "      <td>0</td>\n",
       "    </tr>\n",
       "    <tr>\n",
       "      <th>2</th>\n",
       "      <td>0.183673</td>\n",
       "      <td>1</td>\n",
       "      <td>0.476190</td>\n",
       "      <td>0.576375</td>\n",
       "      <td>0</td>\n",
       "      <td>0.229630</td>\n",
       "      <td>0</td>\n",
       "      <td>0.333333</td>\n",
       "      <td>0</td>\n",
       "      <td>1</td>\n",
       "      <td>0</td>\n",
       "      <td>0</td>\n",
       "      <td>0</td>\n",
       "      <td>1</td>\n",
       "      <td>0</td>\n",
       "      <td>0</td>\n",
       "      <td>1</td>\n",
       "      <td>0</td>\n",
       "      <td>0</td>\n",
       "    </tr>\n",
       "    <tr>\n",
       "      <th>3</th>\n",
       "      <td>0.408163</td>\n",
       "      <td>0</td>\n",
       "      <td>0.552381</td>\n",
       "      <td>0.435845</td>\n",
       "      <td>0</td>\n",
       "      <td>0.303704</td>\n",
       "      <td>1</td>\n",
       "      <td>0.583333</td>\n",
       "      <td>0</td>\n",
       "      <td>0</td>\n",
       "      <td>0</td>\n",
       "      <td>1</td>\n",
       "      <td>1</td>\n",
       "      <td>0</td>\n",
       "      <td>0</td>\n",
       "      <td>0</td>\n",
       "      <td>0</td>\n",
       "      <td>1</td>\n",
       "      <td>0</td>\n",
       "    </tr>\n",
       "    <tr>\n",
       "      <th>4</th>\n",
       "      <td>0.530612</td>\n",
       "      <td>1</td>\n",
       "      <td>0.666667</td>\n",
       "      <td>0.397149</td>\n",
       "      <td>0</td>\n",
       "      <td>0.407407</td>\n",
       "      <td>0</td>\n",
       "      <td>0.333333</td>\n",
       "      <td>0</td>\n",
       "      <td>0</td>\n",
       "      <td>1</td>\n",
       "      <td>0</td>\n",
       "      <td>1</td>\n",
       "      <td>0</td>\n",
       "      <td>0</td>\n",
       "      <td>0</td>\n",
       "      <td>1</td>\n",
       "      <td>0</td>\n",
       "      <td>0</td>\n",
       "    </tr>\n",
       "  </tbody>\n",
       "</table>\n",
       "</div>"
      ],
      "text/plain": [
       "        age  sex  resting bp s  cholesterol  fasting blood sugar  \\\n",
       "0  0.244898    1      0.571429     0.588595                    0   \n",
       "1  0.428571    0      0.761905     0.366599                    0   \n",
       "2  0.183673    1      0.476190     0.576375                    0   \n",
       "3  0.408163    0      0.552381     0.435845                    0   \n",
       "4  0.530612    1      0.666667     0.397149                    0   \n",
       "\n",
       "   max heart rate  exercise angina   oldpeak  chest pain type_1  \\\n",
       "0        0.777778                0  0.333333                  0   \n",
       "1        0.659259                0  0.500000                  0   \n",
       "2        0.229630                0  0.333333                  0   \n",
       "3        0.303704                1  0.583333                  0   \n",
       "4        0.407407                0  0.333333                  0   \n",
       "\n",
       "   chest pain type_2  chest pain type_3  chest pain type_4  resting ecg_0  \\\n",
       "0                  1                  0                  0              1   \n",
       "1                  0                  1                  0              1   \n",
       "2                  1                  0                  0              0   \n",
       "3                  0                  0                  1              1   \n",
       "4                  0                  1                  0              1   \n",
       "\n",
       "   resting ecg_1  resting ecg_2  ST slope_0  ST slope_1  ST slope_2  \\\n",
       "0              0              0           0           1           0   \n",
       "1              0              0           0           0           1   \n",
       "2              1              0           0           1           0   \n",
       "3              0              0           0           0           1   \n",
       "4              0              0           0           1           0   \n",
       "\n",
       "   ST slope_3  \n",
       "0           0  \n",
       "1           0  \n",
       "2           0  \n",
       "3           0  \n",
       "4           0  "
      ]
     },
     "execution_count": 7,
     "metadata": {},
     "output_type": "execute_result"
    }
   ],
   "source": [
    "scaler = MinMaxScaler().fit(X[numeric_features])\n",
    "X[numeric_features] = scaler.transform(X[numeric_features])\n",
    "X.head()"
   ]
  },
  {
   "cell_type": "markdown",
   "metadata": {},
   "source": [
    "### Part(د): training\n",
    "<div dir=\"rtl\"> <font size=\"4\" face=\"HM XNiloofar\">\n",
    "داده ها را به دو بخش train و test تقسیم کردیم. همچنین 25% از داده های train را به بخش validation اختصاص دادیم.\n",
    "</font> </div>"
   ]
  },
  {
   "cell_type": "code",
   "execution_count": 8,
   "metadata": {},
   "outputs": [],
   "source": [
    "X_train, X_test, Y_train, Y_test = train_test_split(X, y, train_size= 0.7)\n",
    "x_train, x_valid, y_train, y_valid = train_test_split(X_train, Y_train, train_size= 0.75)"
   ]
  },
  {
   "cell_type": "markdown",
   "metadata": {},
   "source": [
    "## training SVM-C using \"rbf\" kernel\n",
    "finding bet choice of hyper parameters by traing on train data and testing on validation set:"
   ]
  },
  {
   "cell_type": "code",
   "execution_count": 86,
   "metadata": {},
   "outputs": [
    {
     "name": "stdout",
     "output_type": "stream",
     "text": [
      "best score ==  0.8529411764705882\n",
      "best gamma ==  0.00017012542798525892\n",
      "best C ==  19.952623149688787\n"
     ]
    }
   ],
   "source": [
    "C = 10**np.linspace(-2,4,21)\n",
    "gamma = np.logspace(-5,3,40)\n",
    "accuracy = np.zeros((len(C),len(gamma)))\n",
    "for i in range(len(C)):\n",
    "    for j in range(len(gamma)):\n",
    "        clf = svm.SVC(kernel = 'rbf', C = C[i], gamma = gamma[j], random_state = i+j)\n",
    "        clf = clf.fit(x_train, y_train)\n",
    "        y_pred = clf.predict(x_valid)\n",
    "        accuracy[i,j] = accuracy_score(y_valid, y_pred)#, average=\"macro\")\n",
    "print(\"best score == \", np.max(accuracy))\n",
    "best_gamma_arg = np.argmax(np.max(accuracy, axis = 0))\n",
    "best_gamma = gamma[best_gamma_arg]\n",
    "print(\"best gamma == \", best_gamma)\n",
    "best_C_arg = np.argmax(accuracy[:,best_gamma_arg])\n",
    "best_C = C[best_C_arg]\n",
    "print(\"best C == \", best_C)"
   ]
  },
  {
   "cell_type": "markdown",
   "metadata": {},
   "source": [
    "final training on all of the training set by best choice of C and gamma:"
   ]
  },
  {
   "cell_type": "code",
   "execution_count": 87,
   "metadata": {},
   "outputs": [
    {
     "name": "stdout",
     "output_type": "stream",
     "text": [
      "accuracy is equal to  0.8653295128939829\n",
      "precision is equal to  0.8736263736263736\n",
      "recall is equal to  0.8688524590163934\n",
      "F1-score is equal to  0.8712328767123287\n",
      "confusion_matrix ==\n",
      "[[143  23]\n",
      " [ 24 159]]\n"
     ]
    }
   ],
   "source": [
    "svm_model = svm.SVC(kernel = 'rbf', C = best_C, gamma= best_gamma)\n",
    "svm_model = svm_model.fit(X_train, Y_train)\n",
    "y_pred = svm_model.predict(X_test)\n",
    "accuracy = accuracy_score(Y_test, y_pred)\n",
    "precision = precision_score(Y_test, y_pred)#, average=\"macro\")\n",
    "F1 = f1_score(Y_test, y_pred)\n",
    "recall = recall_score(Y_test, y_pred)\n",
    "print('accuracy is equal to ', accuracy)\n",
    "print('precision is equal to ', precision)\n",
    "print('recall is equal to ', recall)\n",
    "print('F1-score is equal to ', F1)\n",
    "print('confusion_matrix ==')\n",
    "print(confusion_matrix(Y_test, y_pred))"
   ]
  },
  {
   "cell_type": "markdown",
   "metadata": {},
   "source": [
    "## training SVM-C using \"linear\" kernel\n",
    "finding bet choice of hyper parameters by traing on train data and testing on validation set:"
   ]
  },
  {
   "cell_type": "code",
   "execution_count": 84,
   "metadata": {},
   "outputs": [
    {
     "name": "stdout",
     "output_type": "stream",
     "text": [
      "best score ==  0.8431372549019608\n",
      "best C ==  0.44668359215096304\n"
     ]
    }
   ],
   "source": [
    "C = 10**np.linspace(-2,4,41)\n",
    "accuracy = np.zeros(len(C))\n",
    "for i in range(len(C)):\n",
    "    clf = svm.SVC(kernel='linear', C = C[i], random_state = i**2)\n",
    "    clf = clf.fit(x_train, y_train)\n",
    "    y_pred = clf.predict(x_valid)\n",
    "    accuracy[i] = accuracy_score(y_valid, y_pred)\n",
    "print(\"best score == \", np.max(accuracy))\n",
    "best_C_arg = np.argmax(accuracy)\n",
    "best_C = C[best_C_arg]\n",
    "print(\"best C == \", best_C)"
   ]
  },
  {
   "cell_type": "markdown",
   "metadata": {},
   "source": [
    "final training on all of the training set by best choice of C:"
   ]
  },
  {
   "cell_type": "code",
   "execution_count": 85,
   "metadata": {},
   "outputs": [
    {
     "name": "stdout",
     "output_type": "stream",
     "text": [
      "accuracy is equal to  0.8538681948424068\n",
      "precision is equal to  0.8666666666666667\n",
      "recall is equal to  0.8524590163934426\n",
      "F1-score is equal to  0.8595041322314049\n",
      "confusion_matrix ==\n",
      "[[142  24]\n",
      " [ 27 156]]\n"
     ]
    }
   ],
   "source": [
    "svm_model = svm.SVC(kernel = 'linear', C = best_C)\n",
    "svm_model = svm_model.fit(X_train, Y_train)\n",
    "y_pred = svm_model.predict(X_test)\n",
    "accuracy = accuracy_score(Y_test, y_pred)\n",
    "precision = precision_score(Y_test, y_pred)#, average=\"macro\")\n",
    "F1 = f1_score(Y_test, y_pred)\n",
    "recall = recall_score(Y_test, y_pred)\n",
    "print('accuracy is equal to ', accuracy)\n",
    "print('precision is equal to ', precision)\n",
    "print('recall is equal to ', recall)\n",
    "print('F1-score is equal to ', F1)\n",
    "print('confusion_matrix ==')\n",
    "print(confusion_matrix(Y_test, y_pred))"
   ]
  },
  {
   "cell_type": "markdown",
   "metadata": {},
   "source": [
    "## training SVM-C using \"poly\" kernel\n",
    "finding bet choice of hyper parameters by traing on train data and testing on validation set:"
   ]
  },
  {
   "cell_type": "code",
   "execution_count": 9,
   "metadata": {},
   "outputs": [
    {
     "name": "stdout",
     "output_type": "stream",
     "text": [
      "0\n",
      "1\n",
      "2\n",
      "3\n",
      "4\n",
      "5\n",
      "6\n",
      "7\n",
      "8\n"
     ]
    }
   ],
   "source": [
    "C = [1]#10**np.linspace(-2,4,6)\n",
    "gamma = np.logspace(-5,3,11)\n",
    "degree = np.arange(2,6)\n",
    "accuracy = np.zeros((len(C),len(gamma), len(degree)))\n",
    "for i in range(len(C)):\n",
    "    for j in range(len(gamma)):\n",
    "        for k in range(len(degree)):\n",
    "            clf = svm.SVC(kernel= 'poly', C = C[i], gamma = gamma[j], degree= degree[k], random_state = i*j+k**i)\n",
    "            clf = clf.fit(x_train, y_train)\n",
    "            y_pred = clf.predict(x_valid)\n",
    "            accuracy[i,j,k] = accuracy_score(y_valid, y_pred)#, average=\"macro\")\n",
    "        # print(j)\n",
    "print(\"best score == \", np.max(accuracy))\n",
    "best_degree_arg = np.argmax(np.max(accuracy, axis = (0,1)))\n",
    "best_degree = degree[best_degree_arg]\n",
    "print(\"best degree == \", best_degree)\n",
    "best_gamma_arg = np.argmax(np.max(accuracy[:,:,best_degree_arg], axis = 0))\n",
    "best_gamma = gamma[best_gamma_arg]\n",
    "print(\"best gamma == \", best_gamma)\n",
    "best_C_arg = np.argmax(accuracy[:,best_gamma_arg, best_degree_arg])\n",
    "best_C = C[best_C_arg]\n",
    "print(\"best C == \", best_C)"
   ]
  },
  {
   "cell_type": "markdown",
   "metadata": {},
   "source": [
    "final training on all of the training set by best choice of C, gamma and degree:"
   ]
  },
  {
   "cell_type": "code",
   "execution_count": 9,
   "metadata": {},
   "outputs": [
    {
     "name": "stdout",
     "output_type": "stream",
     "text": [
      "accuracy is equal to  0.8681948424068768\n",
      "precision is equal to  0.903954802259887\n",
      "recall is equal to  0.8465608465608465\n",
      "F1-score is equal to  0.8743169398907104\n",
      "confusion_matrix ==\n",
      "[[143  17]\n",
      " [ 29 160]]\n"
     ]
    }
   ],
   "source": [
    "svm_model = svm.SVC(kernel = 'poly', C = best_C, gamma= best_gamma, degree= best_degree)\n",
    "svm_model = svm_model.fit(X_train, Y_train)\n",
    "y_pred = svm_model.predict(X_test)\n",
    "accuracy = accuracy_score(Y_test, y_pred)\n",
    "precision = precision_score(Y_test, y_pred)#, average=\"macro\")\n",
    "F1 = f1_score(Y_test, y_pred)\n",
    "recall = recall_score(Y_test, y_pred)\n",
    "print('accuracy is equal to ', accuracy)\n",
    "print('precision is equal to ', precision)\n",
    "print('recall is equal to ', recall)\n",
    "print('F1-score is equal to ', F1)\n",
    "print('confusion_matrix ==')\n",
    "print(confusion_matrix(Y_test, y_pred))"
   ]
  }
 ],
 "metadata": {
  "kernelspec": {
   "display_name": "base",
   "language": "python",
   "name": "python3"
  },
  "language_info": {
   "codemirror_mode": {
    "name": "ipython",
    "version": 3
   },
   "file_extension": ".py",
   "mimetype": "text/x-python",
   "name": "python",
   "nbconvert_exporter": "python",
   "pygments_lexer": "ipython3",
   "version": "3.8.17"
  },
  "orig_nbformat": 4
 },
 "nbformat": 4,
 "nbformat_minor": 2
}
